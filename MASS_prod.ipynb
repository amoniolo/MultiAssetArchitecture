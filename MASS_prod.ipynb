{
 "cells": [
  {
   "cell_type": "code",
   "execution_count": 1,
   "id": "c48b8d4e",
   "metadata": {},
   "outputs": [],
   "source": [
    "from MASS_enhancement_prod import _init_MASS_direct"
   ]
  },
  {
   "cell_type": "code",
   "execution_count": 4,
   "id": "cc77855f",
   "metadata": {},
   "outputs": [],
   "source": [
    "data_file = open('test_src.csv')"
   ]
  },
  {
   "cell_type": "code",
   "execution_count": 5,
   "id": "27611e42",
   "metadata": {
    "scrolled": false
   },
   "outputs": [
    {
     "data": {
      "application/vnd.jupyter.widget-view+json": {
       "model_id": "54078097061847cfbe04f8cb7bfb5812",
       "version_major": 2,
       "version_minor": 0
      },
      "text/plain": [
       "VBox(children=(HBox(children=(HTML(value='<b><h18> Security Level Asset Scoring System </h18></b>'),)), HBox(l…"
      ]
     },
     "metadata": {},
     "output_type": "display_data"
    }
   ],
   "source": [
    "_init_MASS_direct(data_file)"
   ]
  }
 ],
 "metadata": {
  "kernelspec": {
   "display_name": "Python [conda env:updated_env]",
   "language": "python",
   "name": "conda-env-updated_env-py"
  },
  "language_info": {
   "codemirror_mode": {
    "name": "ipython",
    "version": 3
   },
   "file_extension": ".py",
   "mimetype": "text/x-python",
   "name": "python",
   "nbconvert_exporter": "python",
   "pygments_lexer": "ipython3",
   "version": "3.9.13"
  }
 },
 "nbformat": 4,
 "nbformat_minor": 5
}
